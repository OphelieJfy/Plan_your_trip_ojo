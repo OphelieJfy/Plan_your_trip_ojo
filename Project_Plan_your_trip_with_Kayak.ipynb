{
 "cells": [
  {
   "attachments": {},
   "cell_type": "markdown",
   "metadata": {},
   "source": [
    "# Project: Plan your trip with Kayak #"
   ]
  },
  {
   "attachments": {},
   "cell_type": "markdown",
   "metadata": {},
   "source": [
    "## 1. Preparation steps ##\n",
    "\n",
    "### Import libraries ###"
   ]
  },
  {
   "cell_type": "code",
   "execution_count": 1,
   "metadata": {},
   "outputs": [],
   "source": [
    "import pandas as pd\n",
    "from datetime import datetime\n",
    "\n",
    "import requests\n",
    "import json"
   ]
  },
  {
   "attachments": {},
   "cell_type": "markdown",
   "metadata": {},
   "source": [
    "### List cities of interest ###"
   ]
  },
  {
   "cell_type": "code",
   "execution_count": 2,
   "metadata": {},
   "outputs": [],
   "source": [
    "cities = [\n",
    "    \"Mont Saint Michel\",\n",
    "    \"St Malo\",\n",
    "    \"Bayeux\",\n",
    "    \"Le Havre\",\n",
    "    \"Rouen\",\n",
    "    \"Paris\",\n",
    "    \"Amiens\",\n",
    "    \"Lille\",\n",
    "    \"Strasbourg\",\n",
    "    \"Chateau du Haut Koenigsbourg\",\n",
    "    \"Colmar\",\n",
    "    \"Eguisheim\",\n",
    "    \"Besancon\",\n",
    "    \"Dijon\",\n",
    "    \"Annecy\",\n",
    "    \"Grenoble\",\n",
    "    \"Lyon\",\n",
    "    \"Gorges du Verdon\",\n",
    "    \"Bormes les Mimosas\",\n",
    "    \"Cassis\",\n",
    "    \"Marseille\",\n",
    "    \"Aix en Provence\",\n",
    "    \"Avignon\",\n",
    "    \"Uzes\",\n",
    "    \"Nimes\",\n",
    "    \"Aigues Mortes\",\n",
    "    \"Saintes Maries de la mer\",\n",
    "    \"Collioure\",\n",
    "    \"Carcassonne\",\n",
    "    \"Ariege\",\n",
    "    \"Toulouse\",\n",
    "    \"Montauban\",\n",
    "    \"Biarritz\",\n",
    "    \"Bayonne\",\n",
    "    \"La Rochelle\"\n",
    "]"
   ]
  },
  {
   "attachments": {},
   "cell_type": "markdown",
   "metadata": {},
   "source": [
    "## 2. Get weather data with an API ##"
   ]
  },
  {
   "attachments": {},
   "cell_type": "markdown",
   "metadata": {},
   "source": [
    "### Get cities GPS coordinates ###"
   ]
  },
  {
   "cell_type": "code",
   "execution_count": 3,
   "metadata": {},
   "outputs": [
    {
     "name": "stdout",
     "output_type": "stream",
     "text": [
      "La recherche des coordonnées GPS pour les destinations demandées est terminée.       \n",
      "Pas d'informations trouvées pour les destinations suivantes (elles ne pourront donc être pas inclues dans les recherches suivantes): Gorges du Verdon, Uzes, Ariege.\n"
     ]
    }
   ],
   "source": [
    "### GET CITIES GPS COORDINATES ###\n",
    "\n",
    "# Initialize variables\n",
    "id_city = 0\n",
    "cities_wo_info = []\n",
    "df_cities = pd.DataFrame(columns = ['id', 'city', 'latitude', 'longitude'])\n",
    "\n",
    "# Get informations about cities and store them into the df_cities dataframe\n",
    "for city in cities:\n",
    "    \n",
    "    try:\n",
    "\n",
    "        # Get city coordinates by an API request and store results of interest\n",
    "        coordinates = requests.get(\"https://nominatim.openstreetmap.org/search?\", params = {\"city\":city, \"country\":\"France\", \"format\":\"json\"})\n",
    "        row_city = {'id':id_city, 'city':city, 'latitude':coordinates.json()[0]['lat'], 'longitude':coordinates.json()[0]['lon']}\n",
    "\n",
    "        # Increment city id\n",
    "        id_city += 1\n",
    "\n",
    "        # Add city info to the dataframe\n",
    "        df_cities = pd.concat([df_cities, pd.DataFrame([row_city])]).reset_index(drop = True)\n",
    "    \n",
    "    except:\n",
    "\n",
    "        # Save city name without information\n",
    "        cities_wo_info.append(city)\n",
    "    \n",
    "\n",
    "print(f\"La recherche des coordonnées GPS pour les destinations demandées est terminée. \\\n",
    "      \\nPas d'informations trouvées pour les destinations suivantes (elles ne pourront donc être pas inclues dans les recherches suivantes): {', '.join(cities_wo_info)}.\")"
   ]
  },
  {
   "cell_type": "code",
   "execution_count": null,
   "metadata": {},
   "outputs": [
    {
     "data": {
      "text/html": [
       "<div>\n",
       "<style scoped>\n",
       "    .dataframe tbody tr th:only-of-type {\n",
       "        vertical-align: middle;\n",
       "    }\n",
       "\n",
       "    .dataframe tbody tr th {\n",
       "        vertical-align: top;\n",
       "    }\n",
       "\n",
       "    .dataframe thead th {\n",
       "        text-align: right;\n",
       "    }\n",
       "</style>\n",
       "<table border=\"1\" class=\"dataframe\">\n",
       "  <thead>\n",
       "    <tr style=\"text-align: right;\">\n",
       "      <th></th>\n",
       "      <th>id</th>\n",
       "      <th>city</th>\n",
       "      <th>latitude</th>\n",
       "      <th>longitude</th>\n",
       "    </tr>\n",
       "  </thead>\n",
       "  <tbody>\n",
       "    <tr>\n",
       "      <th>0</th>\n",
       "      <td>0</td>\n",
       "      <td>Mont Saint Michel</td>\n",
       "      <td>48.6359541</td>\n",
       "      <td>-1.511459954959514</td>\n",
       "    </tr>\n",
       "    <tr>\n",
       "      <th>1</th>\n",
       "      <td>1</td>\n",
       "      <td>St Malo</td>\n",
       "      <td>48.649518</td>\n",
       "      <td>-2.0260409</td>\n",
       "    </tr>\n",
       "    <tr>\n",
       "      <th>2</th>\n",
       "      <td>2</td>\n",
       "      <td>Bayeux</td>\n",
       "      <td>49.2764624</td>\n",
       "      <td>-0.7024738</td>\n",
       "    </tr>\n",
       "    <tr>\n",
       "      <th>3</th>\n",
       "      <td>3</td>\n",
       "      <td>Le Havre</td>\n",
       "      <td>49.4938975</td>\n",
       "      <td>0.1079732</td>\n",
       "    </tr>\n",
       "    <tr>\n",
       "      <th>4</th>\n",
       "      <td>4</td>\n",
       "      <td>Rouen</td>\n",
       "      <td>49.4404591</td>\n",
       "      <td>1.0939658</td>\n",
       "    </tr>\n",
       "  </tbody>\n",
       "</table>\n",
       "</div>"
      ],
      "text/plain": [
       "  id               city    latitude           longitude\n",
       "0  0  Mont Saint Michel  48.6359541  -1.511459954959514\n",
       "1  1            St Malo   48.649518          -2.0260409\n",
       "2  2             Bayeux  49.2764624          -0.7024738\n",
       "3  3           Le Havre  49.4938975           0.1079732\n",
       "4  4              Rouen  49.4404591           1.0939658"
      ]
     },
     "execution_count": 4,
     "metadata": {},
     "output_type": "execute_result"
    }
   ],
   "source": [
    "df_cities.head()"
   ]
  },
  {
   "attachments": {},
   "cell_type": "markdown",
   "metadata": {},
   "source": [
    "### Get cities weather predictions ###"
   ]
  },
  {
   "cell_type": "code",
   "execution_count": null,
   "metadata": {},
   "outputs": [],
   "source": [
    "import numpy as np"
   ]
  },
  {
   "cell_type": "code",
   "execution_count": null,
   "metadata": {},
   "outputs": [],
   "source": [
    "### GET CITIES WEATHER PREDICTIONS FOR THE 5 NEXT DAYS ###\n",
    "\n",
    "# Initialize variables\n",
    "df_weather = pd.DataFrame(columns = ['id', 'date_time', 'temperature', 'humidity', 'wind_speed', 'pop', 'rain'])\n",
    "\n",
    "# Get informations about weather in each city and store them into the df_weather dataframe\n",
    "for id_city in range(len(df_cities)):\n",
    "\n",
    "    # Prepare parameters for API request\n",
    "    params_current = {\n",
    "        'lat':df_cities.loc[id_city, 'latitude'],\n",
    "        'lon':df_cities.loc[id_city, 'longitude'],\n",
    "        'units':'metric',\n",
    "        'appid':'7b2fc90b87c669c0d576b2ecc4f7f810',\n",
    "    }\n",
    "    params_forecast = {\n",
    "        'lat':df_cities.loc[id_city, 'latitude'],\n",
    "        'lon':df_cities.loc[id_city, 'longitude'],\n",
    "        'units':'metric',\n",
    "        'cnt':'40',\n",
    "        'appid':'7b2fc90b87c669c0d576b2ecc4f7f810',\n",
    "    }\n",
    "\n",
    "    # Request API to obtain weather infos\n",
    "    weather_current = requests.get(\"https://api.openweathermap.org/data/2.5/weather?\", params = params_current)\n",
    "    weather_forecast = requests.get(\"https://api.openweathermap.org/data/2.5/forecast?\", params = params_forecast)\n",
    "    \n",
    "    # Store current weather into the df_weather dataframe\n",
    "    date_time = weather_current.json()['dt']\n",
    "    temp = weather_current.json()['main']['temp']\n",
    "    humidity = float(weather_current.json()['main']['humidity'])\n",
    "    wind_speed = weather_current.json()['wind']['speed']\n",
    "    pop = np.nan\n",
    "    rain = np.nan\n",
    "    row_weather = {'id':id_city, 'date_time':date_time, 'temperature':temp, 'humidity':humidity, 'wind_speed':wind_speed, 'pop':pop, 'rain':rain}\n",
    "    df_weather = pd.concat([df_weather, pd.DataFrame([row_weather])]).reset_index(drop = True)\n",
    "\n",
    "    # Store weather data into the df_weather dataframe\n",
    "    # Use an iteration to catch every 3h hours data for the 5 days per city\n",
    "    for iter in range(40):\n",
    "\n",
    "        # Save informations as individual variables\n",
    "        date_time = weather_forecast.json()['list'][iter]['dt']\n",
    "        temp = weather_forecast.json()['list'][iter]['main']['temp']\n",
    "        humidity = float(weather_forecast.json()['list'][iter]['main']['humidity'])\n",
    "        wind_speed = weather_forecast.json()['list'][iter]['wind']['speed']\n",
    "        pop = weather_forecast.json()['list'][iter]['pop']\n",
    "        \n",
    "        # rain parameter isn't always alvaible so raise a try / except condition\n",
    "        try:\n",
    "            rain = weather_forecast.json()['list'][iter]['rain']['3h']\n",
    "        except:\n",
    "            rain = np.nan\n",
    "\n",
    "        # Load informations into the df_weather dataframe\n",
    "        row_weather = {'id':id_city, 'date_time':date_time, 'temperature':temp, 'humidity':humidity, 'wind_speed':wind_speed, 'pop':pop, 'rain':rain}\n",
    "        df_weather = pd.concat([df_weather, pd.DataFrame([row_weather])]).reset_index(drop = True)"
   ]
  },
  {
   "cell_type": "code",
   "execution_count": null,
   "metadata": {},
   "outputs": [
    {
     "data": {
      "text/html": [
       "<div>\n",
       "<style scoped>\n",
       "    .dataframe tbody tr th:only-of-type {\n",
       "        vertical-align: middle;\n",
       "    }\n",
       "\n",
       "    .dataframe tbody tr th {\n",
       "        vertical-align: top;\n",
       "    }\n",
       "\n",
       "    .dataframe thead th {\n",
       "        text-align: right;\n",
       "    }\n",
       "</style>\n",
       "<table border=\"1\" class=\"dataframe\">\n",
       "  <thead>\n",
       "    <tr style=\"text-align: right;\">\n",
       "      <th></th>\n",
       "      <th>id</th>\n",
       "      <th>date_time</th>\n",
       "      <th>temperature</th>\n",
       "      <th>humidity</th>\n",
       "      <th>wind_speed</th>\n",
       "      <th>pop</th>\n",
       "      <th>rain</th>\n",
       "    </tr>\n",
       "  </thead>\n",
       "  <tbody>\n",
       "    <tr>\n",
       "      <th>0</th>\n",
       "      <td>0</td>\n",
       "      <td>1681836406</td>\n",
       "      <td>12.39</td>\n",
       "      <td>79.0</td>\n",
       "      <td>6.14</td>\n",
       "      <td>NaN</td>\n",
       "      <td>NaN</td>\n",
       "    </tr>\n",
       "    <tr>\n",
       "      <th>1</th>\n",
       "      <td>0</td>\n",
       "      <td>1681840800</td>\n",
       "      <td>12.39</td>\n",
       "      <td>83.0</td>\n",
       "      <td>6.09</td>\n",
       "      <td>0.61</td>\n",
       "      <td>0.53</td>\n",
       "    </tr>\n",
       "    <tr>\n",
       "      <th>2</th>\n",
       "      <td>0</td>\n",
       "      <td>1681851600</td>\n",
       "      <td>10.72</td>\n",
       "      <td>87.0</td>\n",
       "      <td>4.19</td>\n",
       "      <td>0.00</td>\n",
       "      <td>NaN</td>\n",
       "    </tr>\n",
       "    <tr>\n",
       "      <th>3</th>\n",
       "      <td>0</td>\n",
       "      <td>1681862400</td>\n",
       "      <td>9.01</td>\n",
       "      <td>91.0</td>\n",
       "      <td>4.75</td>\n",
       "      <td>0.00</td>\n",
       "      <td>NaN</td>\n",
       "    </tr>\n",
       "    <tr>\n",
       "      <th>4</th>\n",
       "      <td>0</td>\n",
       "      <td>1681873200</td>\n",
       "      <td>6.53</td>\n",
       "      <td>95.0</td>\n",
       "      <td>3.84</td>\n",
       "      <td>0.00</td>\n",
       "      <td>NaN</td>\n",
       "    </tr>\n",
       "  </tbody>\n",
       "</table>\n",
       "</div>"
      ],
      "text/plain": [
       "  id   date_time  temperature  humidity  wind_speed   pop  rain\n",
       "0  0  1681836406        12.39      79.0        6.14   NaN   NaN\n",
       "1  0  1681840800        12.39      83.0        6.09  0.61  0.53\n",
       "2  0  1681851600        10.72      87.0        4.19  0.00   NaN\n",
       "3  0  1681862400         9.01      91.0        4.75  0.00   NaN\n",
       "4  0  1681873200         6.53      95.0        3.84  0.00   NaN"
      ]
     },
     "execution_count": 7,
     "metadata": {},
     "output_type": "execute_result"
    }
   ],
   "source": [
    "df_weather.head()"
   ]
  },
  {
   "attachments": {},
   "cell_type": "markdown",
   "metadata": {},
   "source": [
    "### Get the top 5 destinations ###"
   ]
  },
  {
   "cell_type": "code",
   "execution_count": null,
   "metadata": {},
   "outputs": [
    {
     "data": {
      "text/html": [
       "<div>\n",
       "<style scoped>\n",
       "    .dataframe tbody tr th:only-of-type {\n",
       "        vertical-align: middle;\n",
       "    }\n",
       "\n",
       "    .dataframe tbody tr th {\n",
       "        vertical-align: top;\n",
       "    }\n",
       "\n",
       "    .dataframe thead th {\n",
       "        text-align: right;\n",
       "    }\n",
       "</style>\n",
       "<table border=\"1\" class=\"dataframe\">\n",
       "  <thead>\n",
       "    <tr style=\"text-align: right;\">\n",
       "      <th></th>\n",
       "      <th>id_weather</th>\n",
       "      <th>humidity</th>\n",
       "      <th>rain</th>\n",
       "      <th>pop</th>\n",
       "      <th>temperature</th>\n",
       "      <th>wind_speed</th>\n",
       "      <th>id_city</th>\n",
       "      <th>city</th>\n",
       "      <th>latitude</th>\n",
       "      <th>longitude</th>\n",
       "    </tr>\n",
       "  </thead>\n",
       "  <tbody>\n",
       "    <tr>\n",
       "      <th>0</th>\n",
       "      <td>20</td>\n",
       "      <td>51.804878</td>\n",
       "      <td>0.360000</td>\n",
       "      <td>0.02700</td>\n",
       "      <td>16.039268</td>\n",
       "      <td>3.055366</td>\n",
       "      <td>20</td>\n",
       "      <td>Aix en Provence</td>\n",
       "      <td>43.5298424</td>\n",
       "      <td>5.4474738</td>\n",
       "    </tr>\n",
       "    <tr>\n",
       "      <th>1</th>\n",
       "      <td>21</td>\n",
       "      <td>58.682927</td>\n",
       "      <td>0.183333</td>\n",
       "      <td>0.05875</td>\n",
       "      <td>15.487805</td>\n",
       "      <td>3.510732</td>\n",
       "      <td>21</td>\n",
       "      <td>Avignon</td>\n",
       "      <td>43.9492493</td>\n",
       "      <td>4.8059012</td>\n",
       "    </tr>\n",
       "    <tr>\n",
       "      <th>2</th>\n",
       "      <td>23</td>\n",
       "      <td>59.829268</td>\n",
       "      <td>0.260000</td>\n",
       "      <td>0.04975</td>\n",
       "      <td>15.295122</td>\n",
       "      <td>3.400000</td>\n",
       "      <td>23</td>\n",
       "      <td>Nimes</td>\n",
       "      <td>43.8374249</td>\n",
       "      <td>4.3600687</td>\n",
       "    </tr>\n",
       "    <tr>\n",
       "      <th>3</th>\n",
       "      <td>18</td>\n",
       "      <td>61.853659</td>\n",
       "      <td>NaN</td>\n",
       "      <td>0.01150</td>\n",
       "      <td>15.998537</td>\n",
       "      <td>3.968537</td>\n",
       "      <td>18</td>\n",
       "      <td>Cassis</td>\n",
       "      <td>43.2140359</td>\n",
       "      <td>5.5396318</td>\n",
       "    </tr>\n",
       "    <tr>\n",
       "      <th>4</th>\n",
       "      <td>19</td>\n",
       "      <td>62.439024</td>\n",
       "      <td>0.190000</td>\n",
       "      <td>0.01450</td>\n",
       "      <td>16.118537</td>\n",
       "      <td>4.275366</td>\n",
       "      <td>19</td>\n",
       "      <td>Marseille</td>\n",
       "      <td>43.2961743</td>\n",
       "      <td>5.3699525</td>\n",
       "    </tr>\n",
       "  </tbody>\n",
       "</table>\n",
       "</div>"
      ],
      "text/plain": [
       "   id_weather   humidity      rain      pop  temperature  wind_speed id_city  \\\n",
       "0          20  51.804878  0.360000  0.02700    16.039268    3.055366      20   \n",
       "1          21  58.682927  0.183333  0.05875    15.487805    3.510732      21   \n",
       "2          23  59.829268  0.260000  0.04975    15.295122    3.400000      23   \n",
       "3          18  61.853659       NaN  0.01150    15.998537    3.968537      18   \n",
       "4          19  62.439024  0.190000  0.01450    16.118537    4.275366      19   \n",
       "\n",
       "              city    latitude  longitude  \n",
       "0  Aix en Provence  43.5298424  5.4474738  \n",
       "1          Avignon  43.9492493  4.8059012  \n",
       "2            Nimes  43.8374249  4.3600687  \n",
       "3           Cassis  43.2140359  5.5396318  \n",
       "4        Marseille  43.2961743  5.3699525  "
      ]
     },
     "metadata": {},
     "output_type": "display_data"
    }
   ],
   "source": [
    "# Define the top 5 destinations based on 1/ humidity 2/ rain 3/ temperature 4/ wind speed and 5/ pop\n",
    "df_weather_mean = df_weather.groupby('id')[['humidity', 'rain', 'pop', 'temperature', 'wind_speed']].mean().sort_values(['humidity', 'rain', 'pop', 'temperature', 'wind_speed'], ascending = [True, True, True, False, True]).reset_index()\n",
    "\n",
    "top5 = df_weather_mean.join(df_cities, on = 'id', lsuffix = '_weather', rsuffix = '_city').iloc[:5]\n",
    "display(top5)"
   ]
  },
  {
   "attachments": {},
   "cell_type": "markdown",
   "metadata": {},
   "source": [
    "### Group cities and median weather informations in one dataframe ###"
   ]
  },
  {
   "cell_type": "code",
   "execution_count": null,
   "metadata": {},
   "outputs": [
    {
     "data": {
      "text/html": [
       "<div>\n",
       "<style scoped>\n",
       "    .dataframe tbody tr th:only-of-type {\n",
       "        vertical-align: middle;\n",
       "    }\n",
       "\n",
       "    .dataframe tbody tr th {\n",
       "        vertical-align: top;\n",
       "    }\n",
       "\n",
       "    .dataframe thead th {\n",
       "        text-align: right;\n",
       "    }\n",
       "</style>\n",
       "<table border=\"1\" class=\"dataframe\">\n",
       "  <thead>\n",
       "    <tr style=\"text-align: right;\">\n",
       "      <th></th>\n",
       "      <th>id</th>\n",
       "      <th>city</th>\n",
       "      <th>latitude</th>\n",
       "      <th>longitude</th>\n",
       "      <th>humidity</th>\n",
       "      <th>rain</th>\n",
       "      <th>pop</th>\n",
       "      <th>temperature</th>\n",
       "      <th>wind_speed</th>\n",
       "    </tr>\n",
       "  </thead>\n",
       "  <tbody>\n",
       "    <tr>\n",
       "      <th>0</th>\n",
       "      <td>0</td>\n",
       "      <td>Mont Saint Michel</td>\n",
       "      <td>48.6359541</td>\n",
       "      <td>-1.511459954959514</td>\n",
       "      <td>82.195122</td>\n",
       "      <td>0.402857</td>\n",
       "      <td>0.18300</td>\n",
       "      <td>9.088780</td>\n",
       "      <td>4.631707</td>\n",
       "    </tr>\n",
       "    <tr>\n",
       "      <th>1</th>\n",
       "      <td>1</td>\n",
       "      <td>St Malo</td>\n",
       "      <td>48.649518</td>\n",
       "      <td>-2.0260409</td>\n",
       "      <td>79.878049</td>\n",
       "      <td>0.500833</td>\n",
       "      <td>0.15625</td>\n",
       "      <td>9.375366</td>\n",
       "      <td>5.451463</td>\n",
       "    </tr>\n",
       "    <tr>\n",
       "      <th>2</th>\n",
       "      <td>2</td>\n",
       "      <td>Bayeux</td>\n",
       "      <td>49.2764624</td>\n",
       "      <td>-0.7024738</td>\n",
       "      <td>83.048780</td>\n",
       "      <td>0.402308</td>\n",
       "      <td>0.20575</td>\n",
       "      <td>8.376829</td>\n",
       "      <td>5.005610</td>\n",
       "    </tr>\n",
       "    <tr>\n",
       "      <th>3</th>\n",
       "      <td>3</td>\n",
       "      <td>Le Havre</td>\n",
       "      <td>49.4938975</td>\n",
       "      <td>0.1079732</td>\n",
       "      <td>78.634146</td>\n",
       "      <td>0.450769</td>\n",
       "      <td>0.19625</td>\n",
       "      <td>8.998537</td>\n",
       "      <td>5.493659</td>\n",
       "    </tr>\n",
       "    <tr>\n",
       "      <th>4</th>\n",
       "      <td>4</td>\n",
       "      <td>Rouen</td>\n",
       "      <td>49.4404591</td>\n",
       "      <td>1.0939658</td>\n",
       "      <td>79.439024</td>\n",
       "      <td>0.502000</td>\n",
       "      <td>0.22200</td>\n",
       "      <td>8.737805</td>\n",
       "      <td>4.774878</td>\n",
       "    </tr>\n",
       "  </tbody>\n",
       "</table>\n",
       "</div>"
      ],
      "text/plain": [
       "  id               city    latitude           longitude   humidity      rain  \\\n",
       "0  0  Mont Saint Michel  48.6359541  -1.511459954959514  82.195122  0.402857   \n",
       "1  1            St Malo   48.649518          -2.0260409  79.878049  0.500833   \n",
       "2  2             Bayeux  49.2764624          -0.7024738  83.048780  0.402308   \n",
       "3  3           Le Havre  49.4938975           0.1079732  78.634146  0.450769   \n",
       "4  4              Rouen  49.4404591           1.0939658  79.439024  0.502000   \n",
       "\n",
       "       pop  temperature  wind_speed  \n",
       "0  0.18300     9.088780    4.631707  \n",
       "1  0.15625     9.375366    5.451463  \n",
       "2  0.20575     8.376829    5.005610  \n",
       "3  0.19625     8.998537    5.493659  \n",
       "4  0.22200     8.737805    4.774878  "
      ]
     },
     "execution_count": 9,
     "metadata": {},
     "output_type": "execute_result"
    }
   ],
   "source": [
    "### JOIN DATA FROM CITIES AND WEATHER IN ONE DATAFRAME ###\n",
    "\n",
    "df_cities_weather = pd.merge(left = df_cities, right = df_weather_mean, how = 'outer', on = 'id', suffixes = ('_city', '_weather'))\n",
    "df_cities_weather.head()"
   ]
  },
  {
   "attachments": {},
   "cell_type": "markdown",
   "metadata": {},
   "source": [
    "### Graphical representation ###"
   ]
  },
  {
   "cell_type": "code",
   "execution_count": null,
   "metadata": {},
   "outputs": [],
   "source": [
    "import plotly.express as px"
   ]
  },
  {
   "cell_type": "code",
   "execution_count": null,
   "metadata": {},
   "outputs": [],
   "source": [
    "df_cities_weather['latitude'] = df_cities_weather['latitude'].astype(float)\n",
    "df_cities_weather['longitude'] = df_cities_weather['longitude'].astype(float)"
   ]
  },
  {
   "cell_type": "code",
   "execution_count": null,
   "metadata": {},
   "outputs": [
    {
     "data": {
      "application/vnd.plotly.v1+json": {
       "config": {
        "plotlyServerURL": "https://plot.ly"
       },
       "data": [
        {
         "hovertemplate": "pop=%{marker.size}<br>latitude=%{lat}<br>longitude=%{lon}<br>temperature=%{marker.color}<extra></extra>",
         "lat": [
          48.6359541,
          48.649518,
          49.2764624,
          49.4938975,
          49.4404591,
          48.8534951,
          49.8941708,
          50.6365654,
          48.584614,
          48.2495226,
          48.0777517,
          48.0447968,
          47.2380222,
          47.3215806,
          45.8992348,
          45.1875602,
          45.7578137,
          43.1506968,
          43.2140359,
          43.2961743,
          43.5298424,
          43.9492493,
          44.0121279,
          43.8374249,
          43.5658225,
          43.4522771,
          42.52505,
          43.2130358,
          43.6044622,
          44.0175835,
          43.4832523,
          43.4945144,
          46.1591126
         ],
         "legendgroup": "",
         "lon": [
          -1.511459954959514,
          -2.0260409,
          -0.7024738,
          0.1079732,
          1.0939658,
          2.3483915,
          2.2956951,
          3.0635282,
          7.7507127,
          7.3454923,
          7.3579641,
          7.3079618,
          6.0243622,
          5.0414701,
          6.1288847,
          5.7357819,
          4.8320114,
          6.3419285,
          5.5396318,
          5.3699525,
          5.4474738,
          4.8059012,
          4.4196718,
          4.3600687,
          4.1912837,
          4.4287172,
          3.0831554,
          2.3491069,
          1.4442469,
          1.3549991,
          -1.5592776,
          -1.4736657,
          -1.1520434
         ],
         "marker": {
          "color": [
           9.088780487804877,
           9.375365853658536,
           8.376829268292683,
           8.998536585365853,
           8.737804878048781,
           10.236829268292682,
           8.52780487804878,
           8.749268292682927,
           10.367317073170732,
           6.999512195121952,
           10.110487804878048,
           10.140487804878049,
           9.97487804878049,
           9.471463414634146,
           10.686829268292684,
           13.326829268292682,
           12.670975609756097,
           15.13,
           15.998536585365855,
           16.118536585365852,
           16.039268292682927,
           15.487804878048781,
           14.347073170731708,
           15.295121951219512,
           14.827073170731706,
           14.915853658536584,
           15.794146341463414,
           14.805365853658536,
           13.804878048780488,
           13.775365853658535,
           13.942439024390243,
           14.036829268292683,
           11.669756097560976
          ],
          "coloraxis": "coloraxis",
          "size": [
           0.183,
           0.15625,
           0.20575000000000002,
           0.19624999999999998,
           0.22199999999999998,
           0.19125,
           0.29375,
           0.2665,
           0.21125,
           0.22825,
           0.23875000000000002,
           0.24125000000000002,
           0.32075,
           0.297,
           0.356,
           0.30074999999999996,
           0.2015,
           0.006500000000000001,
           0.0115,
           0.014499999999999999,
           0.027000000000000003,
           0.058750000000000004,
           0.06525,
           0.049749999999999996,
           0.032,
           0.0195,
           0.06,
           0.09025,
           0.12875,
           0.1835,
           0.16675,
           0.1715,
           0.1525
          ],
          "sizemode": "area",
          "sizeref": 0.0005696
         },
         "mode": "markers",
         "name": "",
         "showlegend": false,
         "subplot": "mapbox",
         "type": "scattermapbox"
        }
       ],
       "layout": {
        "coloraxis": {
         "colorbar": {
          "title": {
           "text": "temperature"
          }
         },
         "colorscale": [
          [
           0,
           "rgb(0,0,255)"
          ],
          [
           1,
           "rgb(255,0,0)"
          ]
         ]
        },
        "font": {
         "size": 8
        },
        "height": 600,
        "legend": {
         "itemsizing": "constant",
         "tracegroupgap": 0
        },
        "mapbox": {
         "center": {
          "lat": 45.99230548181818,
          "lon": 3.3680415498497105
         },
         "domain": {
          "x": [
           0,
           1
          ],
          "y": [
           0,
           1
          ]
         },
         "style": "carto-positron",
         "zoom": 4
        },
        "margin": {
         "t": 60
        },
        "template": {
         "data": {
          "bar": [
           {
            "error_x": {
             "color": "#2a3f5f"
            },
            "error_y": {
             "color": "#2a3f5f"
            },
            "marker": {
             "line": {
              "color": "#E5ECF6",
              "width": 0.5
             },
             "pattern": {
              "fillmode": "overlay",
              "size": 10,
              "solidity": 0.2
             }
            },
            "type": "bar"
           }
          ],
          "barpolar": [
           {
            "marker": {
             "line": {
              "color": "#E5ECF6",
              "width": 0.5
             },
             "pattern": {
              "fillmode": "overlay",
              "size": 10,
              "solidity": 0.2
             }
            },
            "type": "barpolar"
           }
          ],
          "carpet": [
           {
            "aaxis": {
             "endlinecolor": "#2a3f5f",
             "gridcolor": "white",
             "linecolor": "white",
             "minorgridcolor": "white",
             "startlinecolor": "#2a3f5f"
            },
            "baxis": {
             "endlinecolor": "#2a3f5f",
             "gridcolor": "white",
             "linecolor": "white",
             "minorgridcolor": "white",
             "startlinecolor": "#2a3f5f"
            },
            "type": "carpet"
           }
          ],
          "choropleth": [
           {
            "colorbar": {
             "outlinewidth": 0,
             "ticks": ""
            },
            "type": "choropleth"
           }
          ],
          "contour": [
           {
            "colorbar": {
             "outlinewidth": 0,
             "ticks": ""
            },
            "colorscale": [
             [
              0,
              "#0d0887"
             ],
             [
              0.1111111111111111,
              "#46039f"
             ],
             [
              0.2222222222222222,
              "#7201a8"
             ],
             [
              0.3333333333333333,
              "#9c179e"
             ],
             [
              0.4444444444444444,
              "#bd3786"
             ],
             [
              0.5555555555555556,
              "#d8576b"
             ],
             [
              0.6666666666666666,
              "#ed7953"
             ],
             [
              0.7777777777777778,
              "#fb9f3a"
             ],
             [
              0.8888888888888888,
              "#fdca26"
             ],
             [
              1,
              "#f0f921"
             ]
            ],
            "type": "contour"
           }
          ],
          "contourcarpet": [
           {
            "colorbar": {
             "outlinewidth": 0,
             "ticks": ""
            },
            "type": "contourcarpet"
           }
          ],
          "heatmap": [
           {
            "colorbar": {
             "outlinewidth": 0,
             "ticks": ""
            },
            "colorscale": [
             [
              0,
              "#0d0887"
             ],
             [
              0.1111111111111111,
              "#46039f"
             ],
             [
              0.2222222222222222,
              "#7201a8"
             ],
             [
              0.3333333333333333,
              "#9c179e"
             ],
             [
              0.4444444444444444,
              "#bd3786"
             ],
             [
              0.5555555555555556,
              "#d8576b"
             ],
             [
              0.6666666666666666,
              "#ed7953"
             ],
             [
              0.7777777777777778,
              "#fb9f3a"
             ],
             [
              0.8888888888888888,
              "#fdca26"
             ],
             [
              1,
              "#f0f921"
             ]
            ],
            "type": "heatmap"
           }
          ],
          "heatmapgl": [
           {
            "colorbar": {
             "outlinewidth": 0,
             "ticks": ""
            },
            "colorscale": [
             [
              0,
              "#0d0887"
             ],
             [
              0.1111111111111111,
              "#46039f"
             ],
             [
              0.2222222222222222,
              "#7201a8"
             ],
             [
              0.3333333333333333,
              "#9c179e"
             ],
             [
              0.4444444444444444,
              "#bd3786"
             ],
             [
              0.5555555555555556,
              "#d8576b"
             ],
             [
              0.6666666666666666,
              "#ed7953"
             ],
             [
              0.7777777777777778,
              "#fb9f3a"
             ],
             [
              0.8888888888888888,
              "#fdca26"
             ],
             [
              1,
              "#f0f921"
             ]
            ],
            "type": "heatmapgl"
           }
          ],
          "histogram": [
           {
            "marker": {
             "pattern": {
              "fillmode": "overlay",
              "size": 10,
              "solidity": 0.2
             }
            },
            "type": "histogram"
           }
          ],
          "histogram2d": [
           {
            "colorbar": {
             "outlinewidth": 0,
             "ticks": ""
            },
            "colorscale": [
             [
              0,
              "#0d0887"
             ],
             [
              0.1111111111111111,
              "#46039f"
             ],
             [
              0.2222222222222222,
              "#7201a8"
             ],
             [
              0.3333333333333333,
              "#9c179e"
             ],
             [
              0.4444444444444444,
              "#bd3786"
             ],
             [
              0.5555555555555556,
              "#d8576b"
             ],
             [
              0.6666666666666666,
              "#ed7953"
             ],
             [
              0.7777777777777778,
              "#fb9f3a"
             ],
             [
              0.8888888888888888,
              "#fdca26"
             ],
             [
              1,
              "#f0f921"
             ]
            ],
            "type": "histogram2d"
           }
          ],
          "histogram2dcontour": [
           {
            "colorbar": {
             "outlinewidth": 0,
             "ticks": ""
            },
            "colorscale": [
             [
              0,
              "#0d0887"
             ],
             [
              0.1111111111111111,
              "#46039f"
             ],
             [
              0.2222222222222222,
              "#7201a8"
             ],
             [
              0.3333333333333333,
              "#9c179e"
             ],
             [
              0.4444444444444444,
              "#bd3786"
             ],
             [
              0.5555555555555556,
              "#d8576b"
             ],
             [
              0.6666666666666666,
              "#ed7953"
             ],
             [
              0.7777777777777778,
              "#fb9f3a"
             ],
             [
              0.8888888888888888,
              "#fdca26"
             ],
             [
              1,
              "#f0f921"
             ]
            ],
            "type": "histogram2dcontour"
           }
          ],
          "mesh3d": [
           {
            "colorbar": {
             "outlinewidth": 0,
             "ticks": ""
            },
            "type": "mesh3d"
           }
          ],
          "parcoords": [
           {
            "line": {
             "colorbar": {
              "outlinewidth": 0,
              "ticks": ""
             }
            },
            "type": "parcoords"
           }
          ],
          "pie": [
           {
            "automargin": true,
            "type": "pie"
           }
          ],
          "scatter": [
           {
            "fillpattern": {
             "fillmode": "overlay",
             "size": 10,
             "solidity": 0.2
            },
            "type": "scatter"
           }
          ],
          "scatter3d": [
           {
            "line": {
             "colorbar": {
              "outlinewidth": 0,
              "ticks": ""
             }
            },
            "marker": {
             "colorbar": {
              "outlinewidth": 0,
              "ticks": ""
             }
            },
            "type": "scatter3d"
           }
          ],
          "scattercarpet": [
           {
            "marker": {
             "colorbar": {
              "outlinewidth": 0,
              "ticks": ""
             }
            },
            "type": "scattercarpet"
           }
          ],
          "scattergeo": [
           {
            "marker": {
             "colorbar": {
              "outlinewidth": 0,
              "ticks": ""
             }
            },
            "type": "scattergeo"
           }
          ],
          "scattergl": [
           {
            "marker": {
             "colorbar": {
              "outlinewidth": 0,
              "ticks": ""
             }
            },
            "type": "scattergl"
           }
          ],
          "scattermapbox": [
           {
            "marker": {
             "colorbar": {
              "outlinewidth": 0,
              "ticks": ""
             }
            },
            "type": "scattermapbox"
           }
          ],
          "scatterpolar": [
           {
            "marker": {
             "colorbar": {
              "outlinewidth": 0,
              "ticks": ""
             }
            },
            "type": "scatterpolar"
           }
          ],
          "scatterpolargl": [
           {
            "marker": {
             "colorbar": {
              "outlinewidth": 0,
              "ticks": ""
             }
            },
            "type": "scatterpolargl"
           }
          ],
          "scatterternary": [
           {
            "marker": {
             "colorbar": {
              "outlinewidth": 0,
              "ticks": ""
             }
            },
            "type": "scatterternary"
           }
          ],
          "surface": [
           {
            "colorbar": {
             "outlinewidth": 0,
             "ticks": ""
            },
            "colorscale": [
             [
              0,
              "#0d0887"
             ],
             [
              0.1111111111111111,
              "#46039f"
             ],
             [
              0.2222222222222222,
              "#7201a8"
             ],
             [
              0.3333333333333333,
              "#9c179e"
             ],
             [
              0.4444444444444444,
              "#bd3786"
             ],
             [
              0.5555555555555556,
              "#d8576b"
             ],
             [
              0.6666666666666666,
              "#ed7953"
             ],
             [
              0.7777777777777778,
              "#fb9f3a"
             ],
             [
              0.8888888888888888,
              "#fdca26"
             ],
             [
              1,
              "#f0f921"
             ]
            ],
            "type": "surface"
           }
          ],
          "table": [
           {
            "cells": {
             "fill": {
              "color": "#EBF0F8"
             },
             "line": {
              "color": "white"
             }
            },
            "header": {
             "fill": {
              "color": "#C8D4E3"
             },
             "line": {
              "color": "white"
             }
            },
            "type": "table"
           }
          ]
         },
         "layout": {
          "annotationdefaults": {
           "arrowcolor": "#2a3f5f",
           "arrowhead": 0,
           "arrowwidth": 1
          },
          "autotypenumbers": "strict",
          "coloraxis": {
           "colorbar": {
            "outlinewidth": 0,
            "ticks": ""
           }
          },
          "colorscale": {
           "diverging": [
            [
             0,
             "#8e0152"
            ],
            [
             0.1,
             "#c51b7d"
            ],
            [
             0.2,
             "#de77ae"
            ],
            [
             0.3,
             "#f1b6da"
            ],
            [
             0.4,
             "#fde0ef"
            ],
            [
             0.5,
             "#f7f7f7"
            ],
            [
             0.6,
             "#e6f5d0"
            ],
            [
             0.7,
             "#b8e186"
            ],
            [
             0.8,
             "#7fbc41"
            ],
            [
             0.9,
             "#4d9221"
            ],
            [
             1,
             "#276419"
            ]
           ],
           "sequential": [
            [
             0,
             "#0d0887"
            ],
            [
             0.1111111111111111,
             "#46039f"
            ],
            [
             0.2222222222222222,
             "#7201a8"
            ],
            [
             0.3333333333333333,
             "#9c179e"
            ],
            [
             0.4444444444444444,
             "#bd3786"
            ],
            [
             0.5555555555555556,
             "#d8576b"
            ],
            [
             0.6666666666666666,
             "#ed7953"
            ],
            [
             0.7777777777777778,
             "#fb9f3a"
            ],
            [
             0.8888888888888888,
             "#fdca26"
            ],
            [
             1,
             "#f0f921"
            ]
           ],
           "sequentialminus": [
            [
             0,
             "#0d0887"
            ],
            [
             0.1111111111111111,
             "#46039f"
            ],
            [
             0.2222222222222222,
             "#7201a8"
            ],
            [
             0.3333333333333333,
             "#9c179e"
            ],
            [
             0.4444444444444444,
             "#bd3786"
            ],
            [
             0.5555555555555556,
             "#d8576b"
            ],
            [
             0.6666666666666666,
             "#ed7953"
            ],
            [
             0.7777777777777778,
             "#fb9f3a"
            ],
            [
             0.8888888888888888,
             "#fdca26"
            ],
            [
             1,
             "#f0f921"
            ]
           ]
          },
          "colorway": [
           "#636efa",
           "#EF553B",
           "#00cc96",
           "#ab63fa",
           "#FFA15A",
           "#19d3f3",
           "#FF6692",
           "#B6E880",
           "#FF97FF",
           "#FECB52"
          ],
          "font": {
           "color": "#2a3f5f"
          },
          "geo": {
           "bgcolor": "white",
           "lakecolor": "white",
           "landcolor": "#E5ECF6",
           "showlakes": true,
           "showland": true,
           "subunitcolor": "white"
          },
          "hoverlabel": {
           "align": "left"
          },
          "hovermode": "closest",
          "mapbox": {
           "style": "light"
          },
          "paper_bgcolor": "white",
          "plot_bgcolor": "#E5ECF6",
          "polar": {
           "angularaxis": {
            "gridcolor": "white",
            "linecolor": "white",
            "ticks": ""
           },
           "bgcolor": "#E5ECF6",
           "radialaxis": {
            "gridcolor": "white",
            "linecolor": "white",
            "ticks": ""
           }
          },
          "scene": {
           "xaxis": {
            "backgroundcolor": "#E5ECF6",
            "gridcolor": "white",
            "gridwidth": 2,
            "linecolor": "white",
            "showbackground": true,
            "ticks": "",
            "zerolinecolor": "white"
           },
           "yaxis": {
            "backgroundcolor": "#E5ECF6",
            "gridcolor": "white",
            "gridwidth": 2,
            "linecolor": "white",
            "showbackground": true,
            "ticks": "",
            "zerolinecolor": "white"
           },
           "zaxis": {
            "backgroundcolor": "#E5ECF6",
            "gridcolor": "white",
            "gridwidth": 2,
            "linecolor": "white",
            "showbackground": true,
            "ticks": "",
            "zerolinecolor": "white"
           }
          },
          "shapedefaults": {
           "line": {
            "color": "#2a3f5f"
           }
          },
          "ternary": {
           "aaxis": {
            "gridcolor": "white",
            "linecolor": "white",
            "ticks": ""
           },
           "baxis": {
            "gridcolor": "white",
            "linecolor": "white",
            "ticks": ""
           },
           "bgcolor": "#E5ECF6",
           "caxis": {
            "gridcolor": "white",
            "linecolor": "white",
            "ticks": ""
           }
          },
          "title": {
           "x": 0.05
          },
          "xaxis": {
           "automargin": true,
           "gridcolor": "white",
           "linecolor": "white",
           "ticks": "",
           "title": {
            "standoff": 15
           },
           "zerolinecolor": "white",
           "zerolinewidth": 2
          },
          "yaxis": {
           "automargin": true,
           "gridcolor": "white",
           "linecolor": "white",
           "ticks": "",
           "title": {
            "standoff": 15
           },
           "zerolinecolor": "white",
           "zerolinewidth": 2
          }
         }
        },
        "title": {
         "text": "Top cities in France to visit according to the weather forecast for the next five days<br>- the color indicates the average temperature forecast and the size indicates the average probability of precipitation -",
         "x": 0.5,
         "xanchor": "center"
        },
        "width": 700
       }
      }
     },
     "metadata": {},
     "output_type": "display_data"
    }
   ],
   "source": [
    "fig = px.scatter_mapbox(df_cities_weather, lat = \"latitude\", lon = \"longitude\", color = \"temperature\", size = \"pop\", size_max = 25, \\\n",
    "                        zoom = 4, mapbox_style = \"carto-positron\", color_continuous_scale = \"Bluered\", width = 700, height = 600, )\n",
    "fig.update_layout(\n",
    "    title = {'text': \"Top cities in France to visit according to the weather forecast for the next five days<br>- the color indicates the average temperature forecast and the size indicates the average probability of precipitation -\",\n",
    "    'x': 0.5, 'xanchor': 'center'},\n",
    "    font = {'size':8}\n",
    ")\n",
    "fig.show()"
   ]
  },
  {
   "attachments": {},
   "cell_type": "markdown",
   "metadata": {},
   "source": [
    "## 3. Scrape Booking.com to obtain hotels' informations ##"
   ]
  },
  {
   "attachments": {},
   "cell_type": "markdown",
   "metadata": {},
   "source": [
    "*   hotel name,\n",
    "*   Url to its booking.com page,\n",
    "*   Its coordinates: latitude and longitude\n",
    "*   Score given by the website users\n",
    "*   Text description of the hotel"
   ]
  },
  {
   "cell_type": "code",
   "execution_count": 3,
   "metadata": {},
   "outputs": [
    {
     "name": "stderr",
     "output_type": "stream",
     "text": [
      "2023-04-23 19:11:16 [scrapy.utils.log] INFO: Scrapy 2.6.2 started (bot: scrapybot)\n",
      "2023-04-23 19:11:16 [scrapy.utils.log] INFO: Versions: lxml 4.9.1.0, libxml2 2.9.14, cssselect 1.1.0, parsel 1.6.0, w3lib 1.21.0, Twisted 22.2.0, Python 3.9.13 (main, Aug 25 2022, 23:51:50) [MSC v.1916 64 bit (AMD64)], pyOpenSSL 22.0.0 (OpenSSL 1.1.1q  5 Jul 2022), cryptography 37.0.1, Platform Windows-10-10.0.19045-SP0\n",
      "2023-04-23 19:11:16 [scrapy.crawler] INFO: Overridden settings:\n",
      "{'LOG_LEVEL': 20, 'USER_AGENT': 'Firefox/111.0.'}\n",
      "2023-04-23 19:11:16 [scrapy.extensions.telnet] INFO: Telnet Password: 53270dcdd142864e\n",
      "2023-04-23 19:11:16 [scrapy.middleware] INFO: Enabled extensions:\n",
      "['scrapy.extensions.corestats.CoreStats',\n",
      " 'scrapy.extensions.telnet.TelnetConsole',\n",
      " 'scrapy.extensions.feedexport.FeedExporter',\n",
      " 'scrapy.extensions.logstats.LogStats']\n",
      "2023-04-23 19:11:17 [scrapy.middleware] INFO: Enabled downloader middlewares:\n",
      "['scrapy.downloadermiddlewares.httpauth.HttpAuthMiddleware',\n",
      " 'scrapy.downloadermiddlewares.downloadtimeout.DownloadTimeoutMiddleware',\n",
      " 'scrapy.downloadermiddlewares.defaultheaders.DefaultHeadersMiddleware',\n",
      " 'scrapy.downloadermiddlewares.useragent.UserAgentMiddleware',\n",
      " 'scrapy.downloadermiddlewares.retry.RetryMiddleware',\n",
      " 'scrapy.downloadermiddlewares.redirect.MetaRefreshMiddleware',\n",
      " 'scrapy.downloadermiddlewares.httpcompression.HttpCompressionMiddleware',\n",
      " 'scrapy.downloadermiddlewares.redirect.RedirectMiddleware',\n",
      " 'scrapy.downloadermiddlewares.cookies.CookiesMiddleware',\n",
      " 'scrapy.downloadermiddlewares.httpproxy.HttpProxyMiddleware',\n",
      " 'scrapy.downloadermiddlewares.stats.DownloaderStats']\n",
      "2023-04-23 19:11:17 [scrapy.middleware] INFO: Enabled spider middlewares:\n",
      "['scrapy.spidermiddlewares.httperror.HttpErrorMiddleware',\n",
      " 'scrapy.spidermiddlewares.offsite.OffsiteMiddleware',\n",
      " 'scrapy.spidermiddlewares.referer.RefererMiddleware',\n",
      " 'scrapy.spidermiddlewares.urllength.UrlLengthMiddleware',\n",
      " 'scrapy.spidermiddlewares.depth.DepthMiddleware']\n",
      "2023-04-23 19:11:17 [scrapy.middleware] INFO: Enabled item pipelines:\n",
      "[]\n",
      "2023-04-23 19:11:17 [scrapy.core.engine] INFO: Spider opened\n",
      "2023-04-23 19:11:17 [scrapy.extensions.logstats] INFO: Crawled 0 pages (at 0 pages/min), scraped 0 items (at 0 items/min)\n",
      "2023-04-23 19:11:17 [scrapy.extensions.telnet] INFO: Telnet console listening on 127.0.0.1:6023\n",
      "2023-04-23 19:11:20 [scrapy.core.scraper] ERROR: Spider error processing <GET https://www.booking.com/searchresults.en-gb.html?ss=paris> (referer: https://www.booking.com/index.en-gb.html?label=gen173nr-1BCAEoggI46AdIM1gEaE2IAQGYAQm4AQrIAQXYAQHoAQGIAgGoAgO4ArXNlaIGwAIB0gIkNGI5NDI0NWUtYzViYy00NDFkLWIyOGUtNjE4NjY3NjMxMGVl2AIF4AIB&sid=b105853164628cc6b375d8e3cf4db103&keep_landing=1&sb_price_type=total&)\n",
      "Traceback (most recent call last):\n",
      "  File \"c:\\Users\\Public\\anaconda3\\lib\\site-packages\\scrapy\\utils\\defer.py\", line 132, in iter_errback\n",
      "    yield next(it)\n",
      "  File \"c:\\Users\\Public\\anaconda3\\lib\\site-packages\\scrapy\\utils\\python.py\", line 354, in __next__\n",
      "    return next(self.data)\n",
      "  File \"c:\\Users\\Public\\anaconda3\\lib\\site-packages\\scrapy\\utils\\python.py\", line 354, in __next__\n",
      "    return next(self.data)\n",
      "  File \"c:\\Users\\Public\\anaconda3\\lib\\site-packages\\scrapy\\core\\spidermw.py\", line 66, in _evaluate_iterable\n",
      "    for r in iterable:\n",
      "  File \"c:\\Users\\Public\\anaconda3\\lib\\site-packages\\scrapy\\spidermiddlewares\\offsite.py\", line 29, in process_spider_output\n",
      "    for x in result:\n",
      "  File \"c:\\Users\\Public\\anaconda3\\lib\\site-packages\\scrapy\\core\\spidermw.py\", line 66, in _evaluate_iterable\n",
      "    for r in iterable:\n",
      "  File \"c:\\Users\\Public\\anaconda3\\lib\\site-packages\\scrapy\\spidermiddlewares\\referer.py\", line 342, in <genexpr>\n",
      "    return (_set_referer(r) for r in result or ())\n",
      "  File \"c:\\Users\\Public\\anaconda3\\lib\\site-packages\\scrapy\\core\\spidermw.py\", line 66, in _evaluate_iterable\n",
      "    for r in iterable:\n",
      "  File \"c:\\Users\\Public\\anaconda3\\lib\\site-packages\\scrapy\\spidermiddlewares\\urllength.py\", line 40, in <genexpr>\n",
      "    return (r for r in result or () if _filter(r))\n",
      "  File \"c:\\Users\\Public\\anaconda3\\lib\\site-packages\\scrapy\\core\\spidermw.py\", line 66, in _evaluate_iterable\n",
      "    for r in iterable:\n",
      "  File \"c:\\Users\\Public\\anaconda3\\lib\\site-packages\\scrapy\\spidermiddlewares\\depth.py\", line 58, in <genexpr>\n",
      "    return (r for r in result or () if _filter(r))\n",
      "  File \"c:\\Users\\Public\\anaconda3\\lib\\site-packages\\scrapy\\core\\spidermw.py\", line 66, in _evaluate_iterable\n",
      "    for r in iterable:\n",
      "  File \"c:\\Users\\Ophélie\\Documents\\Formations_Jedha\\Data_Fullstack\\3_Data_Collection_and_Management\\5_Project_Plan_your_trip_with_Kayak\\spider_booking.py\", line 41, in after_search\n",
      "    'offset': access.css(\"span.c233c1a442::text()\").get(),\n",
      "  File \"c:\\Users\\Public\\anaconda3\\lib\\site-packages\\parsel\\selector.py\", line 282, in css\n",
      "    return self.xpath(self._css2xpath(query))\n",
      "  File \"c:\\Users\\Public\\anaconda3\\lib\\site-packages\\parsel\\selector.py\", line 285, in _css2xpath\n",
      "    return self._csstranslator.css_to_xpath(query)\n",
      "  File \"c:\\Users\\Public\\anaconda3\\lib\\site-packages\\parsel\\csstranslator.py\", line 107, in css_to_xpath\n",
      "    return super(HTMLTranslator, self).css_to_xpath(css, prefix)\n",
      "  File \"c:\\Users\\Public\\anaconda3\\lib\\site-packages\\cssselect\\xpath.py\", line 190, in css_to_xpath\n",
      "    return ' | '.join(self.selector_to_xpath(selector, prefix,\n",
      "  File \"c:\\Users\\Public\\anaconda3\\lib\\site-packages\\cssselect\\xpath.py\", line 190, in <genexpr>\n",
      "    return ' | '.join(self.selector_to_xpath(selector, prefix,\n",
      "  File \"c:\\Users\\Public\\anaconda3\\lib\\site-packages\\cssselect\\xpath.py\", line 222, in selector_to_xpath\n",
      "    xpath = self.xpath_pseudo_element(xpath, selector.pseudo_element)\n",
      "  File \"c:\\Users\\Public\\anaconda3\\lib\\site-packages\\parsel\\csstranslator.py\", line 68, in xpath_pseudo_element\n",
      "    raise ExpressionError(\n",
      "cssselect.xpath.ExpressionError: The functional pseudo-element ::text() is unknown\n",
      "2023-04-23 19:11:20 [scrapy.core.engine] INFO: Closing spider (finished)\n",
      "2023-04-23 19:11:20 [scrapy.statscollectors] INFO: Dumping Scrapy stats:\n",
      "{'downloader/request_bytes': 2051,\n",
      " 'downloader/request_count': 3,\n",
      " 'downloader/request_method_count/GET': 3,\n",
      " 'downloader/response_bytes': 308140,\n",
      " 'downloader/response_count': 3,\n",
      " 'downloader/response_status_count/200': 2,\n",
      " 'downloader/response_status_count/302': 1,\n",
      " 'elapsed_time_seconds': 3.181356,\n",
      " 'finish_reason': 'finished',\n",
      " 'finish_time': datetime.datetime(2023, 4, 23, 17, 11, 20, 893444),\n",
      " 'httpcompression/response_bytes': 1801398,\n",
      " 'httpcompression/response_count': 2,\n",
      " 'log_count/ERROR': 1,\n",
      " 'log_count/INFO': 10,\n",
      " 'request_depth_max': 1,\n",
      " 'response_received_count': 2,\n",
      " 'scheduler/dequeued': 3,\n",
      " 'scheduler/dequeued/memory': 3,\n",
      " 'scheduler/enqueued': 3,\n",
      " 'scheduler/enqueued/memory': 3,\n",
      " 'spider_exceptions/ExpressionError': 1,\n",
      " 'start_time': datetime.datetime(2023, 4, 23, 17, 11, 17, 712088)}\n",
      "2023-04-23 19:11:20 [scrapy.core.engine] INFO: Spider closed (finished)\n"
     ]
    }
   ],
   "source": [
    "### SCRAPE BOOKING TO OBTAIN HOTEL LIST FOR ONE CITY\n",
    "\n",
    "!python spider_booking.py"
   ]
  },
  {
   "cell_type": "code",
   "execution_count": null,
   "metadata": {},
   "outputs": [],
   "source": []
  }
 ],
 "metadata": {
  "kernelspec": {
   "display_name": "base",
   "language": "python",
   "name": "python3"
  },
  "language_info": {
   "codemirror_mode": {
    "name": "ipython",
    "version": 3
   },
   "file_extension": ".py",
   "mimetype": "text/x-python",
   "name": "python",
   "nbconvert_exporter": "python",
   "pygments_lexer": "ipython3",
   "version": "3.9.13"
  },
  "orig_nbformat": 4
 },
 "nbformat": 4,
 "nbformat_minor": 2
}
